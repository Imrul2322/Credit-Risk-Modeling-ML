{
  "nbformat": 4,
  "nbformat_minor": 0,
  "metadata": {
    "colab": {
      "name": "Credit Scoring Project with ML.ipynb",
      "provenance": [],
      "machine_shape": "hm",
      "background_execution": "on",
      "authorship_tag": "ABX9TyNRQ47y7MMnShC1fpobjsaf"
    },
    "kernelspec": {
      "name": "python3",
      "display_name": "Python 3"
    },
    "language_info": {
      "name": "python"
    },
    "accelerator": "TPU",
    "gpuClass": "standard"
  },
  "cells": [
    {
      "cell_type": "markdown",
      "source": [
        "### importing libraries"
      ],
      "metadata": {
        "id": "_IWavvDgaHRi"
      }
    },
    {
      "cell_type": "code",
      "execution_count": 1,
      "metadata": {
        "id": "xN3oi4LmVwrP"
      },
      "outputs": [],
      "source": [
        "import pandas as pd\n",
        "import numpy as np\n",
        "\n",
        "from sklearn.model_selection import train_test_split\n",
        "from sklearn.preprocessing import StandardScaler\n",
        "from sklearn.metrics import classification_report, confusion_matrix, accuracy_score\n",
        "from sklearn.linear_model import LogisticRegression"
      ]
    },
    {
      "cell_type": "markdown",
      "source": [
        "### importing dataset"
      ],
      "metadata": {
        "id": "XxaodQkzaJzs"
      }
    },
    {
      "cell_type": "code",
      "source": [
        "dataset=pd.read_excel(\"a_Dataset_CreditScoring.xlsx\")"
      ],
      "metadata": {
        "id": "w4p1lLr-V3Xd"
      },
      "execution_count": 2,
      "outputs": []
    },
    {
      "cell_type": "code",
      "source": [
        ""
      ],
      "metadata": {
        "id": "xBj1IRc3avxF"
      },
      "execution_count": null,
      "outputs": []
    },
    {
      "cell_type": "markdown",
      "source": [
        "### data preparation"
      ],
      "metadata": {
        "id": "3ApSuxP6aykY"
      }
    },
    {
      "cell_type": "code",
      "source": [
        "dataset.shape"
      ],
      "metadata": {
        "colab": {
          "base_uri": "https://localhost:8080/"
        },
        "id": "AcsjtVOIa0Tr",
        "outputId": "64544044-08e2-4511-8cb4-ccc25c5b98a7"
      },
      "execution_count": 3,
      "outputs": [
        {
          "output_type": "execute_result",
          "data": {
            "text/plain": [
              "(3000, 30)"
            ]
          },
          "metadata": {},
          "execution_count": 3
        }
      ]
    },
    {
      "cell_type": "code",
      "source": [
        "dataset.head()"
      ],
      "metadata": {
        "colab": {
          "base_uri": "https://localhost:8080/",
          "height": 300
        },
        "id": "KeDR-xDBa0-8",
        "outputId": "47f78671-c31e-49ca-83d5-d43ac8628f20"
      },
      "execution_count": 4,
      "outputs": [
        {
          "output_type": "execute_result",
          "data": {
            "text/plain": [
              "   TARGET    ID  DerogCnt  CollectCnt  BanruptcyInd  InqCnt06  InqTimeLast  \\\n",
              "0     1.0   582       3.0         3.0           0.0       4.0          0.0   \n",
              "1     1.0   662      15.0         9.0           0.0       3.0          1.0   \n",
              "2     1.0   805       0.0         0.0           0.0       1.0          5.0   \n",
              "3     1.0  1175       8.0         5.0           0.0       6.0          1.0   \n",
              "4     1.0  1373       3.0         1.0           0.0       9.0          0.0   \n",
              "\n",
              "   InqFinanceCnt24  TLTimeFirst  TLTimeLast  ...  TL50UtilCnt  TLBalHCPct  \\\n",
              "0              5.0        117.0        27.0  ...          3.0      0.9179   \n",
              "1              3.0         14.0        14.0  ...          1.0      0.8000   \n",
              "2              1.0        354.0         7.0  ...          5.0      0.3552   \n",
              "3             10.0         16.0         4.0  ...          3.0      0.9127   \n",
              "4              8.0        130.0        52.0  ...          1.0      1.2511   \n",
              "\n",
              "   TLSatPct  TLDel3060Cnt24  TLDel90Cnt24  TLDel60CntAll  TLOpenPct  \\\n",
              "0    0.2083             2.0           3.0            7.0     0.2083   \n",
              "1    0.0000             0.0           0.0            0.0     1.0000   \n",
              "2    0.6538             0.0           1.0            1.0     0.7308   \n",
              "3    0.2500             1.0           1.0            1.0     0.7500   \n",
              "4    0.0000             0.0           1.0            4.0     0.1429   \n",
              "\n",
              "   TLBadDerogCnt  TLDel60Cnt24  TLOpen24Pct  \n",
              "0            4.0           4.0       0.0000  \n",
              "1           12.0           0.0       1.0000  \n",
              "2            1.0           1.0       0.5263  \n",
              "3            7.0           1.0       1.3333  \n",
              "4            3.0           1.0       0.0000  \n",
              "\n",
              "[5 rows x 30 columns]"
            ],
            "text/html": [
              "\n",
              "  <div id=\"df-67c3e7d9-5385-4fb9-9105-f5f57a860c2c\">\n",
              "    <div class=\"colab-df-container\">\n",
              "      <div>\n",
              "<style scoped>\n",
              "    .dataframe tbody tr th:only-of-type {\n",
              "        vertical-align: middle;\n",
              "    }\n",
              "\n",
              "    .dataframe tbody tr th {\n",
              "        vertical-align: top;\n",
              "    }\n",
              "\n",
              "    .dataframe thead th {\n",
              "        text-align: right;\n",
              "    }\n",
              "</style>\n",
              "<table border=\"1\" class=\"dataframe\">\n",
              "  <thead>\n",
              "    <tr style=\"text-align: right;\">\n",
              "      <th></th>\n",
              "      <th>TARGET</th>\n",
              "      <th>ID</th>\n",
              "      <th>DerogCnt</th>\n",
              "      <th>CollectCnt</th>\n",
              "      <th>BanruptcyInd</th>\n",
              "      <th>InqCnt06</th>\n",
              "      <th>InqTimeLast</th>\n",
              "      <th>InqFinanceCnt24</th>\n",
              "      <th>TLTimeFirst</th>\n",
              "      <th>TLTimeLast</th>\n",
              "      <th>...</th>\n",
              "      <th>TL50UtilCnt</th>\n",
              "      <th>TLBalHCPct</th>\n",
              "      <th>TLSatPct</th>\n",
              "      <th>TLDel3060Cnt24</th>\n",
              "      <th>TLDel90Cnt24</th>\n",
              "      <th>TLDel60CntAll</th>\n",
              "      <th>TLOpenPct</th>\n",
              "      <th>TLBadDerogCnt</th>\n",
              "      <th>TLDel60Cnt24</th>\n",
              "      <th>TLOpen24Pct</th>\n",
              "    </tr>\n",
              "  </thead>\n",
              "  <tbody>\n",
              "    <tr>\n",
              "      <th>0</th>\n",
              "      <td>1.0</td>\n",
              "      <td>582</td>\n",
              "      <td>3.0</td>\n",
              "      <td>3.0</td>\n",
              "      <td>0.0</td>\n",
              "      <td>4.0</td>\n",
              "      <td>0.0</td>\n",
              "      <td>5.0</td>\n",
              "      <td>117.0</td>\n",
              "      <td>27.0</td>\n",
              "      <td>...</td>\n",
              "      <td>3.0</td>\n",
              "      <td>0.9179</td>\n",
              "      <td>0.2083</td>\n",
              "      <td>2.0</td>\n",
              "      <td>3.0</td>\n",
              "      <td>7.0</td>\n",
              "      <td>0.2083</td>\n",
              "      <td>4.0</td>\n",
              "      <td>4.0</td>\n",
              "      <td>0.0000</td>\n",
              "    </tr>\n",
              "    <tr>\n",
              "      <th>1</th>\n",
              "      <td>1.0</td>\n",
              "      <td>662</td>\n",
              "      <td>15.0</td>\n",
              "      <td>9.0</td>\n",
              "      <td>0.0</td>\n",
              "      <td>3.0</td>\n",
              "      <td>1.0</td>\n",
              "      <td>3.0</td>\n",
              "      <td>14.0</td>\n",
              "      <td>14.0</td>\n",
              "      <td>...</td>\n",
              "      <td>1.0</td>\n",
              "      <td>0.8000</td>\n",
              "      <td>0.0000</td>\n",
              "      <td>0.0</td>\n",
              "      <td>0.0</td>\n",
              "      <td>0.0</td>\n",
              "      <td>1.0000</td>\n",
              "      <td>12.0</td>\n",
              "      <td>0.0</td>\n",
              "      <td>1.0000</td>\n",
              "    </tr>\n",
              "    <tr>\n",
              "      <th>2</th>\n",
              "      <td>1.0</td>\n",
              "      <td>805</td>\n",
              "      <td>0.0</td>\n",
              "      <td>0.0</td>\n",
              "      <td>0.0</td>\n",
              "      <td>1.0</td>\n",
              "      <td>5.0</td>\n",
              "      <td>1.0</td>\n",
              "      <td>354.0</td>\n",
              "      <td>7.0</td>\n",
              "      <td>...</td>\n",
              "      <td>5.0</td>\n",
              "      <td>0.3552</td>\n",
              "      <td>0.6538</td>\n",
              "      <td>0.0</td>\n",
              "      <td>1.0</td>\n",
              "      <td>1.0</td>\n",
              "      <td>0.7308</td>\n",
              "      <td>1.0</td>\n",
              "      <td>1.0</td>\n",
              "      <td>0.5263</td>\n",
              "    </tr>\n",
              "    <tr>\n",
              "      <th>3</th>\n",
              "      <td>1.0</td>\n",
              "      <td>1175</td>\n",
              "      <td>8.0</td>\n",
              "      <td>5.0</td>\n",
              "      <td>0.0</td>\n",
              "      <td>6.0</td>\n",
              "      <td>1.0</td>\n",
              "      <td>10.0</td>\n",
              "      <td>16.0</td>\n",
              "      <td>4.0</td>\n",
              "      <td>...</td>\n",
              "      <td>3.0</td>\n",
              "      <td>0.9127</td>\n",
              "      <td>0.2500</td>\n",
              "      <td>1.0</td>\n",
              "      <td>1.0</td>\n",
              "      <td>1.0</td>\n",
              "      <td>0.7500</td>\n",
              "      <td>7.0</td>\n",
              "      <td>1.0</td>\n",
              "      <td>1.3333</td>\n",
              "    </tr>\n",
              "    <tr>\n",
              "      <th>4</th>\n",
              "      <td>1.0</td>\n",
              "      <td>1373</td>\n",
              "      <td>3.0</td>\n",
              "      <td>1.0</td>\n",
              "      <td>0.0</td>\n",
              "      <td>9.0</td>\n",
              "      <td>0.0</td>\n",
              "      <td>8.0</td>\n",
              "      <td>130.0</td>\n",
              "      <td>52.0</td>\n",
              "      <td>...</td>\n",
              "      <td>1.0</td>\n",
              "      <td>1.2511</td>\n",
              "      <td>0.0000</td>\n",
              "      <td>0.0</td>\n",
              "      <td>1.0</td>\n",
              "      <td>4.0</td>\n",
              "      <td>0.1429</td>\n",
              "      <td>3.0</td>\n",
              "      <td>1.0</td>\n",
              "      <td>0.0000</td>\n",
              "    </tr>\n",
              "  </tbody>\n",
              "</table>\n",
              "<p>5 rows × 30 columns</p>\n",
              "</div>\n",
              "      <button class=\"colab-df-convert\" onclick=\"convertToInteractive('df-67c3e7d9-5385-4fb9-9105-f5f57a860c2c')\"\n",
              "              title=\"Convert this dataframe to an interactive table.\"\n",
              "              style=\"display:none;\">\n",
              "        \n",
              "  <svg xmlns=\"http://www.w3.org/2000/svg\" height=\"24px\"viewBox=\"0 0 24 24\"\n",
              "       width=\"24px\">\n",
              "    <path d=\"M0 0h24v24H0V0z\" fill=\"none\"/>\n",
              "    <path d=\"M18.56 5.44l.94 2.06.94-2.06 2.06-.94-2.06-.94-.94-2.06-.94 2.06-2.06.94zm-11 1L8.5 8.5l.94-2.06 2.06-.94-2.06-.94L8.5 2.5l-.94 2.06-2.06.94zm10 10l.94 2.06.94-2.06 2.06-.94-2.06-.94-.94-2.06-.94 2.06-2.06.94z\"/><path d=\"M17.41 7.96l-1.37-1.37c-.4-.4-.92-.59-1.43-.59-.52 0-1.04.2-1.43.59L10.3 9.45l-7.72 7.72c-.78.78-.78 2.05 0 2.83L4 21.41c.39.39.9.59 1.41.59.51 0 1.02-.2 1.41-.59l7.78-7.78 2.81-2.81c.8-.78.8-2.07 0-2.86zM5.41 20L4 18.59l7.72-7.72 1.47 1.35L5.41 20z\"/>\n",
              "  </svg>\n",
              "      </button>\n",
              "      \n",
              "  <style>\n",
              "    .colab-df-container {\n",
              "      display:flex;\n",
              "      flex-wrap:wrap;\n",
              "      gap: 12px;\n",
              "    }\n",
              "\n",
              "    .colab-df-convert {\n",
              "      background-color: #E8F0FE;\n",
              "      border: none;\n",
              "      border-radius: 50%;\n",
              "      cursor: pointer;\n",
              "      display: none;\n",
              "      fill: #1967D2;\n",
              "      height: 32px;\n",
              "      padding: 0 0 0 0;\n",
              "      width: 32px;\n",
              "    }\n",
              "\n",
              "    .colab-df-convert:hover {\n",
              "      background-color: #E2EBFA;\n",
              "      box-shadow: 0px 1px 2px rgba(60, 64, 67, 0.3), 0px 1px 3px 1px rgba(60, 64, 67, 0.15);\n",
              "      fill: #174EA6;\n",
              "    }\n",
              "\n",
              "    [theme=dark] .colab-df-convert {\n",
              "      background-color: #3B4455;\n",
              "      fill: #D2E3FC;\n",
              "    }\n",
              "\n",
              "    [theme=dark] .colab-df-convert:hover {\n",
              "      background-color: #434B5C;\n",
              "      box-shadow: 0px 1px 3px 1px rgba(0, 0, 0, 0.15);\n",
              "      filter: drop-shadow(0px 1px 2px rgba(0, 0, 0, 0.3));\n",
              "      fill: #FFFFFF;\n",
              "    }\n",
              "  </style>\n",
              "\n",
              "      <script>\n",
              "        const buttonEl =\n",
              "          document.querySelector('#df-67c3e7d9-5385-4fb9-9105-f5f57a860c2c button.colab-df-convert');\n",
              "        buttonEl.style.display =\n",
              "          google.colab.kernel.accessAllowed ? 'block' : 'none';\n",
              "\n",
              "        async function convertToInteractive(key) {\n",
              "          const element = document.querySelector('#df-67c3e7d9-5385-4fb9-9105-f5f57a860c2c');\n",
              "          const dataTable =\n",
              "            await google.colab.kernel.invokeFunction('convertToInteractive',\n",
              "                                                     [key], {});\n",
              "          if (!dataTable) return;\n",
              "\n",
              "          const docLinkHtml = 'Like what you see? Visit the ' +\n",
              "            '<a target=\"_blank\" href=https://colab.research.google.com/notebooks/data_table.ipynb>data table notebook</a>'\n",
              "            + ' to learn more about interactive tables.';\n",
              "          element.innerHTML = '';\n",
              "          dataTable['output_type'] = 'display_data';\n",
              "          await google.colab.output.renderOutput(dataTable, element);\n",
              "          const docLink = document.createElement('div');\n",
              "          docLink.innerHTML = docLinkHtml;\n",
              "          element.appendChild(docLink);\n",
              "        }\n",
              "      </script>\n",
              "    </div>\n",
              "  </div>\n",
              "  "
            ]
          },
          "metadata": {},
          "execution_count": 4
        }
      ]
    },
    {
      "cell_type": "code",
      "source": [
        "dataset=dataset.drop('ID',axis=1)\n",
        "dataset.shape"
      ],
      "metadata": {
        "colab": {
          "base_uri": "https://localhost:8080/"
        },
        "id": "bpsx1zxna4yk",
        "outputId": "7bdf03d0-46ce-4767-f70d-5974d7ce9a48"
      },
      "execution_count": 5,
      "outputs": [
        {
          "output_type": "execute_result",
          "data": {
            "text/plain": [
              "(3000, 29)"
            ]
          },
          "metadata": {},
          "execution_count": 5
        }
      ]
    },
    {
      "cell_type": "code",
      "source": [
        "dataset.isna().sum()"
      ],
      "metadata": {
        "colab": {
          "base_uri": "https://localhost:8080/"
        },
        "id": "8r5hFGhka68k",
        "outputId": "6101e469-e66e-4e1b-baf1-5ae834aa5547"
      },
      "execution_count": 6,
      "outputs": [
        {
          "output_type": "execute_result",
          "data": {
            "text/plain": [
              "TARGET               0\n",
              "DerogCnt             0\n",
              "CollectCnt           0\n",
              "BanruptcyInd         0\n",
              "InqCnt06             0\n",
              "InqTimeLast        188\n",
              "InqFinanceCnt24      0\n",
              "TLTimeFirst          0\n",
              "TLTimeLast           0\n",
              "TLCnt03              0\n",
              "TLCnt12              0\n",
              "TLCnt24              0\n",
              "TLCnt                3\n",
              "TLSum               40\n",
              "TLMaxSum            40\n",
              "TLSatCnt             4\n",
              "TLDel60Cnt           0\n",
              "TLBadCnt24           0\n",
              "TL75UtilCnt         99\n",
              "TL50UtilCnt         99\n",
              "TLBalHCPct          41\n",
              "TLSatPct             4\n",
              "TLDel3060Cnt24       0\n",
              "TLDel90Cnt24         0\n",
              "TLDel60CntAll        0\n",
              "TLOpenPct            3\n",
              "TLBadDerogCnt        0\n",
              "TLDel60Cnt24         0\n",
              "TLOpen24Pct          3\n",
              "dtype: int64"
            ]
          },
          "metadata": {},
          "execution_count": 6
        }
      ]
    },
    {
      "cell_type": "code",
      "source": [
        "# filling missing values with mean\n",
        "dataset=dataset.fillna(dataset.mean())"
      ],
      "metadata": {
        "id": "c1ChH5cPa8oD"
      },
      "execution_count": 7,
      "outputs": []
    },
    {
      "cell_type": "code",
      "source": [
        "dataset.isna().sum()"
      ],
      "metadata": {
        "colab": {
          "base_uri": "https://localhost:8080/"
        },
        "id": "wy5qBNF_a_Q7",
        "outputId": "5290fdeb-c406-454a-d500-d8e3d04c7f4d"
      },
      "execution_count": 8,
      "outputs": [
        {
          "output_type": "execute_result",
          "data": {
            "text/plain": [
              "TARGET             0\n",
              "DerogCnt           0\n",
              "CollectCnt         0\n",
              "BanruptcyInd       0\n",
              "InqCnt06           0\n",
              "InqTimeLast        0\n",
              "InqFinanceCnt24    0\n",
              "TLTimeFirst        0\n",
              "TLTimeLast         0\n",
              "TLCnt03            0\n",
              "TLCnt12            0\n",
              "TLCnt24            0\n",
              "TLCnt              0\n",
              "TLSum              0\n",
              "TLMaxSum           0\n",
              "TLSatCnt           0\n",
              "TLDel60Cnt         0\n",
              "TLBadCnt24         0\n",
              "TL75UtilCnt        0\n",
              "TL50UtilCnt        0\n",
              "TLBalHCPct         0\n",
              "TLSatPct           0\n",
              "TLDel3060Cnt24     0\n",
              "TLDel90Cnt24       0\n",
              "TLDel60CntAll      0\n",
              "TLOpenPct          0\n",
              "TLBadDerogCnt      0\n",
              "TLDel60Cnt24       0\n",
              "TLOpen24Pct        0\n",
              "dtype: int64"
            ]
          },
          "metadata": {},
          "execution_count": 8
        }
      ]
    },
    {
      "cell_type": "markdown",
      "source": [
        "### Spliting training and testing dataset"
      ],
      "metadata": {
        "id": "DA3k-4b0cBiL"
      }
    },
    {
      "cell_type": "code",
      "source": [
        "y = dataset.iloc[:, 0].values\n",
        "X = dataset.iloc[:, 1:29].values"
      ],
      "metadata": {
        "id": "QxUGDIeab-OL"
      },
      "execution_count": 9,
      "outputs": []
    },
    {
      "cell_type": "code",
      "source": [
        "X_train, X_test, y_train, y_test = train_test_split(X, y, test_size=0.2, random_state=0)"
      ],
      "metadata": {
        "id": "VVFyOkqxcFZr"
      },
      "execution_count": 10,
      "outputs": []
    },
    {
      "cell_type": "code",
      "source": [
        "sc = StandardScaler()\n",
        "X_train = sc.fit_transform(X_train)\n",
        "X_test = sc.transform(X_test)"
      ],
      "metadata": {
        "id": "1xwTIwT-cIDa"
      },
      "execution_count": 11,
      "outputs": []
    },
    {
      "cell_type": "code",
      "source": [
        "import joblib\n",
        "joblib.dump(sc, 'f2_Normalisation_CreditScoring')"
      ],
      "metadata": {
        "colab": {
          "base_uri": "https://localhost:8080/"
        },
        "id": "seLC977ocKEk",
        "outputId": "ae5a832c-dcc9-4d48-cbaa-2a430ffe2992"
      },
      "execution_count": 12,
      "outputs": [
        {
          "output_type": "execute_result",
          "data": {
            "text/plain": [
              "['f2_Normalisation_CreditScoring']"
            ]
          },
          "metadata": {},
          "execution_count": 12
        }
      ]
    },
    {
      "cell_type": "markdown",
      "source": [
        "### risk model building"
      ],
      "metadata": {
        "id": "TXWJ2vTPcZ3Y"
      }
    },
    {
      "cell_type": "code",
      "source": [
        "classifier =  LogisticRegression()\n",
        "classifier.fit(X_train, y_train)\n",
        "y_pred = classifier.predict(X_test)"
      ],
      "metadata": {
        "id": "tPd7pG_6cXKb"
      },
      "execution_count": 13,
      "outputs": []
    },
    {
      "cell_type": "code",
      "source": [
        "joblib.dump(classifier, 'f1_Classifier_CreditScoring')"
      ],
      "metadata": {
        "colab": {
          "base_uri": "https://localhost:8080/"
        },
        "id": "E1aAHH4UcdKd",
        "outputId": "12327d61-2488-4191-b038-263dda834448"
      },
      "execution_count": 14,
      "outputs": [
        {
          "output_type": "execute_result",
          "data": {
            "text/plain": [
              "['f1_Classifier_CreditScoring']"
            ]
          },
          "metadata": {},
          "execution_count": 14
        }
      ]
    },
    {
      "cell_type": "markdown",
      "source": [
        "### performance of the model"
      ],
      "metadata": {
        "id": "xjq1LM9Jcj3Q"
      }
    },
    {
      "cell_type": "code",
      "source": [
        "print(confusion_matrix(y_test,y_pred))"
      ],
      "metadata": {
        "colab": {
          "base_uri": "https://localhost:8080/"
        },
        "id": "H9-iYOEgciDc",
        "outputId": "0111f950-3887-432f-a40c-c98857906fc8"
      },
      "execution_count": 15,
      "outputs": [
        {
          "output_type": "stream",
          "name": "stdout",
          "text": [
            "[[482  16]\n",
            " [ 88  14]]\n"
          ]
        }
      ]
    },
    {
      "cell_type": "code",
      "source": [
        "print(accuracy_score(y_test, y_pred))"
      ],
      "metadata": {
        "colab": {
          "base_uri": "https://localhost:8080/"
        },
        "id": "j1Z9H0PpcpI8",
        "outputId": "759e98ee-1719-4f36-870f-4d555ce01524"
      },
      "execution_count": 16,
      "outputs": [
        {
          "output_type": "stream",
          "name": "stdout",
          "text": [
            "0.8266666666666667\n"
          ]
        }
      ]
    },
    {
      "cell_type": "code",
      "source": [
        ""
      ],
      "metadata": {
        "id": "AnDCsElmcquE"
      },
      "execution_count": null,
      "outputs": []
    },
    {
      "cell_type": "markdown",
      "source": [
        "### writing output file"
      ],
      "metadata": {
        "id": "f2wj_OUMcsl9"
      }
    },
    {
      "cell_type": "code",
      "source": [
        "predictions = classifier.predict_proba(X_test)\n",
        "predictions"
      ],
      "metadata": {
        "colab": {
          "base_uri": "https://localhost:8080/"
        },
        "id": "uU2g57aLcuPs",
        "outputId": "1532bc3a-36d4-4832-9212-aee3e2ef6bf2"
      },
      "execution_count": 17,
      "outputs": [
        {
          "output_type": "execute_result",
          "data": {
            "text/plain": [
              "array([[0.04043521, 0.95956479],\n",
              "       [0.93779812, 0.06220188],\n",
              "       [0.7116222 , 0.2883778 ],\n",
              "       ...,\n",
              "       [0.97060955, 0.02939045],\n",
              "       [0.4548394 , 0.5451606 ],\n",
              "       [0.86724904, 0.13275096]])"
            ]
          },
          "metadata": {},
          "execution_count": 17
        }
      ]
    },
    {
      "cell_type": "code",
      "source": [
        "df_prediction_prob = pd.DataFrame(predictions, columns = ['prob_0', 'prob_1'])\n",
        "df_prediction_target = pd.DataFrame(classifier.predict(X_test), columns = ['predicted_TARGET'])\n",
        "df_test_dataset = pd.DataFrame(y_test,columns= ['Actual Outcome'])\n",
        "\n",
        "dfx=pd.concat([df_test_dataset, df_prediction_prob, df_prediction_target], axis=1)\n",
        "\n",
        "dfx.to_csv(\"c1_Model_Prediction.xlsx\", sep=',', encoding='UTF-8')\n",
        "\n",
        "dfx.head()"
      ],
      "metadata": {
        "colab": {
          "base_uri": "https://localhost:8080/",
          "height": 206
        },
        "id": "6FvJxk8TcvxM",
        "outputId": "f7bf7190-cf51-4bb3-fe0a-2a677c8ea0e9"
      },
      "execution_count": 18,
      "outputs": [
        {
          "output_type": "execute_result",
          "data": {
            "text/plain": [
              "   Actual Outcome    prob_0    prob_1  predicted_TARGET\n",
              "0             1.0  0.040435  0.959565               1.0\n",
              "1             0.0  0.937798  0.062202               0.0\n",
              "2             0.0  0.711622  0.288378               0.0\n",
              "3             0.0  0.906753  0.093247               0.0\n",
              "4             0.0  0.877058  0.122942               0.0"
            ],
            "text/html": [
              "\n",
              "  <div id=\"df-bdf50fb7-ebb3-426f-936a-d13868219fc9\">\n",
              "    <div class=\"colab-df-container\">\n",
              "      <div>\n",
              "<style scoped>\n",
              "    .dataframe tbody tr th:only-of-type {\n",
              "        vertical-align: middle;\n",
              "    }\n",
              "\n",
              "    .dataframe tbody tr th {\n",
              "        vertical-align: top;\n",
              "    }\n",
              "\n",
              "    .dataframe thead th {\n",
              "        text-align: right;\n",
              "    }\n",
              "</style>\n",
              "<table border=\"1\" class=\"dataframe\">\n",
              "  <thead>\n",
              "    <tr style=\"text-align: right;\">\n",
              "      <th></th>\n",
              "      <th>Actual Outcome</th>\n",
              "      <th>prob_0</th>\n",
              "      <th>prob_1</th>\n",
              "      <th>predicted_TARGET</th>\n",
              "    </tr>\n",
              "  </thead>\n",
              "  <tbody>\n",
              "    <tr>\n",
              "      <th>0</th>\n",
              "      <td>1.0</td>\n",
              "      <td>0.040435</td>\n",
              "      <td>0.959565</td>\n",
              "      <td>1.0</td>\n",
              "    </tr>\n",
              "    <tr>\n",
              "      <th>1</th>\n",
              "      <td>0.0</td>\n",
              "      <td>0.937798</td>\n",
              "      <td>0.062202</td>\n",
              "      <td>0.0</td>\n",
              "    </tr>\n",
              "    <tr>\n",
              "      <th>2</th>\n",
              "      <td>0.0</td>\n",
              "      <td>0.711622</td>\n",
              "      <td>0.288378</td>\n",
              "      <td>0.0</td>\n",
              "    </tr>\n",
              "    <tr>\n",
              "      <th>3</th>\n",
              "      <td>0.0</td>\n",
              "      <td>0.906753</td>\n",
              "      <td>0.093247</td>\n",
              "      <td>0.0</td>\n",
              "    </tr>\n",
              "    <tr>\n",
              "      <th>4</th>\n",
              "      <td>0.0</td>\n",
              "      <td>0.877058</td>\n",
              "      <td>0.122942</td>\n",
              "      <td>0.0</td>\n",
              "    </tr>\n",
              "  </tbody>\n",
              "</table>\n",
              "</div>\n",
              "      <button class=\"colab-df-convert\" onclick=\"convertToInteractive('df-bdf50fb7-ebb3-426f-936a-d13868219fc9')\"\n",
              "              title=\"Convert this dataframe to an interactive table.\"\n",
              "              style=\"display:none;\">\n",
              "        \n",
              "  <svg xmlns=\"http://www.w3.org/2000/svg\" height=\"24px\"viewBox=\"0 0 24 24\"\n",
              "       width=\"24px\">\n",
              "    <path d=\"M0 0h24v24H0V0z\" fill=\"none\"/>\n",
              "    <path d=\"M18.56 5.44l.94 2.06.94-2.06 2.06-.94-2.06-.94-.94-2.06-.94 2.06-2.06.94zm-11 1L8.5 8.5l.94-2.06 2.06-.94-2.06-.94L8.5 2.5l-.94 2.06-2.06.94zm10 10l.94 2.06.94-2.06 2.06-.94-2.06-.94-.94-2.06-.94 2.06-2.06.94z\"/><path d=\"M17.41 7.96l-1.37-1.37c-.4-.4-.92-.59-1.43-.59-.52 0-1.04.2-1.43.59L10.3 9.45l-7.72 7.72c-.78.78-.78 2.05 0 2.83L4 21.41c.39.39.9.59 1.41.59.51 0 1.02-.2 1.41-.59l7.78-7.78 2.81-2.81c.8-.78.8-2.07 0-2.86zM5.41 20L4 18.59l7.72-7.72 1.47 1.35L5.41 20z\"/>\n",
              "  </svg>\n",
              "      </button>\n",
              "      \n",
              "  <style>\n",
              "    .colab-df-container {\n",
              "      display:flex;\n",
              "      flex-wrap:wrap;\n",
              "      gap: 12px;\n",
              "    }\n",
              "\n",
              "    .colab-df-convert {\n",
              "      background-color: #E8F0FE;\n",
              "      border: none;\n",
              "      border-radius: 50%;\n",
              "      cursor: pointer;\n",
              "      display: none;\n",
              "      fill: #1967D2;\n",
              "      height: 32px;\n",
              "      padding: 0 0 0 0;\n",
              "      width: 32px;\n",
              "    }\n",
              "\n",
              "    .colab-df-convert:hover {\n",
              "      background-color: #E2EBFA;\n",
              "      box-shadow: 0px 1px 2px rgba(60, 64, 67, 0.3), 0px 1px 3px 1px rgba(60, 64, 67, 0.15);\n",
              "      fill: #174EA6;\n",
              "    }\n",
              "\n",
              "    [theme=dark] .colab-df-convert {\n",
              "      background-color: #3B4455;\n",
              "      fill: #D2E3FC;\n",
              "    }\n",
              "\n",
              "    [theme=dark] .colab-df-convert:hover {\n",
              "      background-color: #434B5C;\n",
              "      box-shadow: 0px 1px 3px 1px rgba(0, 0, 0, 0.15);\n",
              "      filter: drop-shadow(0px 1px 2px rgba(0, 0, 0, 0.3));\n",
              "      fill: #FFFFFF;\n",
              "    }\n",
              "  </style>\n",
              "\n",
              "      <script>\n",
              "        const buttonEl =\n",
              "          document.querySelector('#df-bdf50fb7-ebb3-426f-936a-d13868219fc9 button.colab-df-convert');\n",
              "        buttonEl.style.display =\n",
              "          google.colab.kernel.accessAllowed ? 'block' : 'none';\n",
              "\n",
              "        async function convertToInteractive(key) {\n",
              "          const element = document.querySelector('#df-bdf50fb7-ebb3-426f-936a-d13868219fc9');\n",
              "          const dataTable =\n",
              "            await google.colab.kernel.invokeFunction('convertToInteractive',\n",
              "                                                     [key], {});\n",
              "          if (!dataTable) return;\n",
              "\n",
              "          const docLinkHtml = 'Like what you see? Visit the ' +\n",
              "            '<a target=\"_blank\" href=https://colab.research.google.com/notebooks/data_table.ipynb>data table notebook</a>'\n",
              "            + ' to learn more about interactive tables.';\n",
              "          element.innerHTML = '';\n",
              "          dataTable['output_type'] = 'display_data';\n",
              "          await google.colab.output.renderOutput(dataTable, element);\n",
              "          const docLink = document.createElement('div');\n",
              "          docLink.innerHTML = docLinkHtml;\n",
              "          element.appendChild(docLink);\n",
              "        }\n",
              "      </script>\n",
              "    </div>\n",
              "  </div>\n",
              "  "
            ]
          },
          "metadata": {},
          "execution_count": 18
        }
      ]
    },
    {
      "cell_type": "code",
      "source": [
        ""
      ],
      "metadata": {
        "id": "LZx18DFmc6EW"
      },
      "execution_count": null,
      "outputs": []
    }
  ]
}